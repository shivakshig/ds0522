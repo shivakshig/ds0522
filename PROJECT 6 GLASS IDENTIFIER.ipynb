{
 "cells": [
  {
   "cell_type": "code",
   "execution_count": 1,
   "id": "40c88dfa",
   "metadata": {},
   "outputs": [
    {
     "ename": "ModuleNotFoundError",
     "evalue": "No module named 'statsmodels.stats.outliners_influence'",
     "output_type": "error",
     "traceback": [
      "\u001b[1;31m---------------------------------------------------------------------------\u001b[0m",
      "\u001b[1;31mModuleNotFoundError\u001b[0m                       Traceback (most recent call last)",
      "Input \u001b[1;32mIn [1]\u001b[0m, in \u001b[0;36m<cell line: 6>\u001b[1;34m()\u001b[0m\n\u001b[0;32m      4\u001b[0m \u001b[38;5;28;01mfrom\u001b[39;00m \u001b[38;5;21;01msklearn\u001b[39;00m\u001b[38;5;21;01m.\u001b[39;00m\u001b[38;5;21;01mlinear_model\u001b[39;00m \u001b[38;5;28;01mimport\u001b[39;00m LogisticRegression\n\u001b[0;32m      5\u001b[0m \u001b[38;5;28;01mfrom\u001b[39;00m \u001b[38;5;21;01msklearn\u001b[39;00m\u001b[38;5;21;01m.\u001b[39;00m\u001b[38;5;21;01mmodel_selection\u001b[39;00m \u001b[38;5;28;01mimport\u001b[39;00m train_test_split\n\u001b[1;32m----> 6\u001b[0m \u001b[38;5;28;01mfrom\u001b[39;00m \u001b[38;5;21;01mstatsmodels\u001b[39;00m\u001b[38;5;21;01m.\u001b[39;00m\u001b[38;5;21;01mstats\u001b[39;00m\u001b[38;5;21;01m.\u001b[39;00m\u001b[38;5;21;01moutliners_influence\u001b[39;00m \u001b[38;5;28;01mimport\u001b[39;00m variance_inflation_factor\n\u001b[0;32m      7\u001b[0m \u001b[38;5;28;01mfrom\u001b[39;00m \u001b[38;5;21;01msklearn\u001b[39;00m\u001b[38;5;21;01m.\u001b[39;00m\u001b[38;5;21;01mmetrics\u001b[39;00m \u001b[38;5;28;01mimport\u001b[39;00m accuracy_score,confusion_matrix, roc_curve, roc_auc_score\n\u001b[0;32m      8\u001b[0m \u001b[38;5;28;01mimport\u001b[39;00m \u001b[38;5;21;01mmatplotlib\u001b[39;00m\u001b[38;5;21;01m.\u001b[39;00m\u001b[38;5;21;01mpyplot\u001b[39;00m \u001b[38;5;28;01mas\u001b[39;00m \u001b[38;5;21;01mplt\u001b[39;00m\n",
      "\u001b[1;31mModuleNotFoundError\u001b[0m: No module named 'statsmodels.stats.outliners_influence'"
     ]
    }
   ],
   "source": [
    "import pandas as pd\n",
    "import numpy as np\n",
    "from sklearn.preprocessing import StandardScaler\n",
    "from sklearn.linear_model import LogisticRegression\n",
    "from sklearn.model_selection import train_test_split\n",
    "from statsmodels.stats.outliners_influence import variance_inflation_factor\n",
    "from sklearn.metrics import accuracy_score,confusion_matrix, roc_curve, roc_auc_score\n",
    "import matplotlib.pyplot as plt\n",
    "import seaborn as sns \n",
    "\n",
    "import warnings\n",
    "warnings.filterwarnings('ignore')"
   ]
  },
  {
   "cell_type": "code",
   "execution_count": 2,
   "id": "988b6f74",
   "metadata": {},
   "outputs": [],
   "source": [
    "df=pd.read_csv('https://raw.githubusercontent.com/dsrscientist/dataset3/main/glass.csv')"
   ]
  },
  {
   "cell_type": "code",
   "execution_count": 16,
   "id": "a6649663",
   "metadata": {},
   "outputs": [
    {
     "data": {
      "text/html": [
       "<div>\n",
       "<style scoped>\n",
       "    .dataframe tbody tr th:only-of-type {\n",
       "        vertical-align: middle;\n",
       "    }\n",
       "\n",
       "    .dataframe tbody tr th {\n",
       "        vertical-align: top;\n",
       "    }\n",
       "\n",
       "    .dataframe thead th {\n",
       "        text-align: right;\n",
       "    }\n",
       "</style>\n",
       "<table border=\"1\" class=\"dataframe\">\n",
       "  <thead>\n",
       "    <tr style=\"text-align: right;\">\n",
       "      <th></th>\n",
       "      <th>1</th>\n",
       "      <th>1.52101</th>\n",
       "      <th>13.64</th>\n",
       "      <th>4.49</th>\n",
       "      <th>1.10</th>\n",
       "      <th>71.78</th>\n",
       "      <th>0.06</th>\n",
       "      <th>8.75</th>\n",
       "      <th>0.00</th>\n",
       "      <th>0.00.1</th>\n",
       "      <th>1.1</th>\n",
       "    </tr>\n",
       "  </thead>\n",
       "  <tbody>\n",
       "    <tr>\n",
       "      <th>0</th>\n",
       "      <td>2</td>\n",
       "      <td>1.51761</td>\n",
       "      <td>13.89</td>\n",
       "      <td>3.60</td>\n",
       "      <td>1.36</td>\n",
       "      <td>72.73</td>\n",
       "      <td>0.48</td>\n",
       "      <td>7.83</td>\n",
       "      <td>0.0</td>\n",
       "      <td>0.00</td>\n",
       "      <td>1</td>\n",
       "    </tr>\n",
       "    <tr>\n",
       "      <th>1</th>\n",
       "      <td>3</td>\n",
       "      <td>1.51618</td>\n",
       "      <td>13.53</td>\n",
       "      <td>3.55</td>\n",
       "      <td>1.54</td>\n",
       "      <td>72.99</td>\n",
       "      <td>0.39</td>\n",
       "      <td>7.78</td>\n",
       "      <td>0.0</td>\n",
       "      <td>0.00</td>\n",
       "      <td>1</td>\n",
       "    </tr>\n",
       "    <tr>\n",
       "      <th>2</th>\n",
       "      <td>4</td>\n",
       "      <td>1.51766</td>\n",
       "      <td>13.21</td>\n",
       "      <td>3.69</td>\n",
       "      <td>1.29</td>\n",
       "      <td>72.61</td>\n",
       "      <td>0.57</td>\n",
       "      <td>8.22</td>\n",
       "      <td>0.0</td>\n",
       "      <td>0.00</td>\n",
       "      <td>1</td>\n",
       "    </tr>\n",
       "    <tr>\n",
       "      <th>3</th>\n",
       "      <td>5</td>\n",
       "      <td>1.51742</td>\n",
       "      <td>13.27</td>\n",
       "      <td>3.62</td>\n",
       "      <td>1.24</td>\n",
       "      <td>73.08</td>\n",
       "      <td>0.55</td>\n",
       "      <td>8.07</td>\n",
       "      <td>0.0</td>\n",
       "      <td>0.00</td>\n",
       "      <td>1</td>\n",
       "    </tr>\n",
       "    <tr>\n",
       "      <th>4</th>\n",
       "      <td>6</td>\n",
       "      <td>1.51596</td>\n",
       "      <td>12.79</td>\n",
       "      <td>3.61</td>\n",
       "      <td>1.62</td>\n",
       "      <td>72.97</td>\n",
       "      <td>0.64</td>\n",
       "      <td>8.07</td>\n",
       "      <td>0.0</td>\n",
       "      <td>0.26</td>\n",
       "      <td>1</td>\n",
       "    </tr>\n",
       "  </tbody>\n",
       "</table>\n",
       "</div>"
      ],
      "text/plain": [
       "   1  1.52101  13.64  4.49  1.10  71.78  0.06  8.75  0.00  0.00.1  1.1\n",
       "0  2  1.51761  13.89  3.60  1.36  72.73  0.48  7.83   0.0    0.00    1\n",
       "1  3  1.51618  13.53  3.55  1.54  72.99  0.39  7.78   0.0    0.00    1\n",
       "2  4  1.51766  13.21  3.69  1.29  72.61  0.57  8.22   0.0    0.00    1\n",
       "3  5  1.51742  13.27  3.62  1.24  73.08  0.55  8.07   0.0    0.00    1\n",
       "4  6  1.51596  12.79  3.61  1.62  72.97  0.64  8.07   0.0    0.26    1"
      ]
     },
     "execution_count": 16,
     "metadata": {},
     "output_type": "execute_result"
    }
   ],
   "source": [
    "df.head()"
   ]
  },
  {
   "cell_type": "code",
   "execution_count": 4,
   "id": "d33bf9c9",
   "metadata": {},
   "outputs": [
    {
     "data": {
      "text/plain": [
       "(213, 11)"
      ]
     },
     "execution_count": 4,
     "metadata": {},
     "output_type": "execute_result"
    }
   ],
   "source": [
    "df.shape"
   ]
  },
  {
   "cell_type": "code",
   "execution_count": 5,
   "id": "20bcdb85",
   "metadata": {},
   "outputs": [
    {
     "data": {
      "text/plain": [
       "1          0\n",
       "1.52101    0\n",
       "13.64      0\n",
       "4.49       0\n",
       "1.10       0\n",
       "71.78      0\n",
       "0.06       0\n",
       "8.75       0\n",
       "0.00       0\n",
       "0.00.1     0\n",
       "1.1        0\n",
       "dtype: int64"
      ]
     },
     "execution_count": 5,
     "metadata": {},
     "output_type": "execute_result"
    }
   ],
   "source": [
    "df.isnull().sum()"
   ]
  },
  {
   "cell_type": "code",
   "execution_count": 6,
   "id": "4b0f55ea",
   "metadata": {},
   "outputs": [],
   "source": [
    "import matplotlib.pyplot as plt\n",
    "import seaborn as sns \n",
    "import warnings\n",
    "warnings.filterwarnings('ignore')"
   ]
  },
  {
   "cell_type": "code",
   "execution_count": 18,
   "id": "35ee662e",
   "metadata": {},
   "outputs": [
    {
     "data": {
      "text/plain": [
       "Counter({1: 69, 2: 76, 3: 17, 5: 13, 6: 9, 7: 29})"
      ]
     },
     "execution_count": 18,
     "metadata": {},
     "output_type": "execute_result"
    }
   ],
   "source": [
    "from collections import Counter\n",
    "Counter(df['1.1'])"
   ]
  },
  {
   "cell_type": "code",
   "execution_count": 19,
   "id": "dcc44d44",
   "metadata": {},
   "outputs": [],
   "source": [
    "X=df.drop(\"1.1\",axis=1)\n",
    "y=df['1.1']"
   ]
  },
  {
   "cell_type": "code",
   "execution_count": 20,
   "id": "2dd085c0",
   "metadata": {},
   "outputs": [],
   "source": [
    "import seaborn as sns"
   ]
  },
  {
   "cell_type": "code",
   "execution_count": 21,
   "id": "e3303a9b",
   "metadata": {},
   "outputs": [
    {
     "data": {
      "text/html": [
       "<div>\n",
       "<style scoped>\n",
       "    .dataframe tbody tr th:only-of-type {\n",
       "        vertical-align: middle;\n",
       "    }\n",
       "\n",
       "    .dataframe tbody tr th {\n",
       "        vertical-align: top;\n",
       "    }\n",
       "\n",
       "    .dataframe thead th {\n",
       "        text-align: right;\n",
       "    }\n",
       "</style>\n",
       "<table border=\"1\" class=\"dataframe\">\n",
       "  <thead>\n",
       "    <tr style=\"text-align: right;\">\n",
       "      <th></th>\n",
       "      <th>1</th>\n",
       "      <th>1.52101</th>\n",
       "      <th>13.64</th>\n",
       "      <th>4.49</th>\n",
       "      <th>1.10</th>\n",
       "      <th>71.78</th>\n",
       "      <th>0.06</th>\n",
       "      <th>8.75</th>\n",
       "      <th>0.00</th>\n",
       "      <th>0.00.1</th>\n",
       "      <th>1.1</th>\n",
       "    </tr>\n",
       "  </thead>\n",
       "  <tbody>\n",
       "    <tr>\n",
       "      <th>1</th>\n",
       "      <td>1.000000</td>\n",
       "      <td>-0.065721</td>\n",
       "      <td>0.380767</td>\n",
       "      <td>-0.647082</td>\n",
       "      <td>0.488475</td>\n",
       "      <td>0.052634</td>\n",
       "      <td>-0.002306</td>\n",
       "      <td>0.090257</td>\n",
       "      <td>0.451437</td>\n",
       "      <td>-0.078151</td>\n",
       "      <td>0.878113</td>\n",
       "    </tr>\n",
       "    <tr>\n",
       "      <th>1.52101</th>\n",
       "      <td>-0.065721</td>\n",
       "      <td>1.000000</td>\n",
       "      <td>-0.193436</td>\n",
       "      <td>-0.128118</td>\n",
       "      <td>-0.405671</td>\n",
       "      <td>-0.540010</td>\n",
       "      <td>-0.287900</td>\n",
       "      <td>0.812495</td>\n",
       "      <td>0.001062</td>\n",
       "      <td>0.145791</td>\n",
       "      <td>-0.161322</td>\n",
       "    </tr>\n",
       "    <tr>\n",
       "      <th>13.64</th>\n",
       "      <td>0.380767</td>\n",
       "      <td>-0.193436</td>\n",
       "      <td>1.000000</td>\n",
       "      <td>-0.276486</td>\n",
       "      <td>0.157928</td>\n",
       "      <td>-0.068519</td>\n",
       "      <td>-0.265520</td>\n",
       "      <td>-0.275314</td>\n",
       "      <td>0.327233</td>\n",
       "      <td>-0.240802</td>\n",
       "      <td>0.504983</td>\n",
       "    </tr>\n",
       "    <tr>\n",
       "      <th>4.49</th>\n",
       "      <td>-0.647082</td>\n",
       "      <td>-0.128118</td>\n",
       "      <td>-0.276486</td>\n",
       "      <td>1.000000</td>\n",
       "      <td>-0.480035</td>\n",
       "      <td>-0.160359</td>\n",
       "      <td>0.009397</td>\n",
       "      <td>-0.444559</td>\n",
       "      <td>-0.492149</td>\n",
       "      <td>0.086906</td>\n",
       "      <td>-0.744004</td>\n",
       "    </tr>\n",
       "    <tr>\n",
       "      <th>1.10</th>\n",
       "      <td>0.488475</td>\n",
       "      <td>-0.405671</td>\n",
       "      <td>0.157928</td>\n",
       "      <td>-0.480035</td>\n",
       "      <td>1.000000</td>\n",
       "      <td>-0.009226</td>\n",
       "      <td>0.324484</td>\n",
       "      <td>-0.260372</td>\n",
       "      <td>0.478936</td>\n",
       "      <td>-0.076456</td>\n",
       "      <td>0.597754</td>\n",
       "    </tr>\n",
       "    <tr>\n",
       "      <th>71.78</th>\n",
       "      <td>0.052634</td>\n",
       "      <td>-0.540010</td>\n",
       "      <td>-0.068519</td>\n",
       "      <td>-0.160359</td>\n",
       "      <td>-0.009226</td>\n",
       "      <td>1.000000</td>\n",
       "      <td>-0.197684</td>\n",
       "      <td>-0.210141</td>\n",
       "      <td>-0.104361</td>\n",
       "      <td>-0.097674</td>\n",
       "      <td>0.147767</td>\n",
       "    </tr>\n",
       "    <tr>\n",
       "      <th>0.06</th>\n",
       "      <td>-0.002306</td>\n",
       "      <td>-0.287900</td>\n",
       "      <td>-0.265520</td>\n",
       "      <td>0.009397</td>\n",
       "      <td>0.324484</td>\n",
       "      <td>-0.197684</td>\n",
       "      <td>1.000000</td>\n",
       "      <td>-0.318649</td>\n",
       "      <td>-0.043790</td>\n",
       "      <td>-0.009586</td>\n",
       "      <td>-0.012765</td>\n",
       "    </tr>\n",
       "    <tr>\n",
       "      <th>8.75</th>\n",
       "      <td>0.090257</td>\n",
       "      <td>0.812495</td>\n",
       "      <td>-0.275314</td>\n",
       "      <td>-0.444559</td>\n",
       "      <td>-0.260372</td>\n",
       "      <td>-0.210141</td>\n",
       "      <td>-0.318649</td>\n",
       "      <td>1.000000</td>\n",
       "      <td>-0.113121</td>\n",
       "      <td>0.124674</td>\n",
       "      <td>0.000372</td>\n",
       "    </tr>\n",
       "    <tr>\n",
       "      <th>0.00</th>\n",
       "      <td>0.451437</td>\n",
       "      <td>0.001062</td>\n",
       "      <td>0.327233</td>\n",
       "      <td>-0.492149</td>\n",
       "      <td>0.478936</td>\n",
       "      <td>-0.104361</td>\n",
       "      <td>-0.043790</td>\n",
       "      <td>-0.113121</td>\n",
       "      <td>1.000000</td>\n",
       "      <td>-0.059729</td>\n",
       "      <td>0.574896</td>\n",
       "    </tr>\n",
       "    <tr>\n",
       "      <th>0.00.1</th>\n",
       "      <td>-0.078151</td>\n",
       "      <td>0.145791</td>\n",
       "      <td>-0.240802</td>\n",
       "      <td>0.086906</td>\n",
       "      <td>-0.076456</td>\n",
       "      <td>-0.097674</td>\n",
       "      <td>-0.009586</td>\n",
       "      <td>0.124674</td>\n",
       "      <td>-0.059729</td>\n",
       "      <td>1.000000</td>\n",
       "      <td>-0.191090</td>\n",
       "    </tr>\n",
       "    <tr>\n",
       "      <th>1.1</th>\n",
       "      <td>0.878113</td>\n",
       "      <td>-0.161322</td>\n",
       "      <td>0.504983</td>\n",
       "      <td>-0.744004</td>\n",
       "      <td>0.597754</td>\n",
       "      <td>0.147767</td>\n",
       "      <td>-0.012765</td>\n",
       "      <td>0.000372</td>\n",
       "      <td>0.574896</td>\n",
       "      <td>-0.191090</td>\n",
       "      <td>1.000000</td>\n",
       "    </tr>\n",
       "  </tbody>\n",
       "</table>\n",
       "</div>"
      ],
      "text/plain": [
       "                1   1.52101     13.64      4.49      1.10     71.78      0.06  \\\n",
       "1        1.000000 -0.065721  0.380767 -0.647082  0.488475  0.052634 -0.002306   \n",
       "1.52101 -0.065721  1.000000 -0.193436 -0.128118 -0.405671 -0.540010 -0.287900   \n",
       "13.64    0.380767 -0.193436  1.000000 -0.276486  0.157928 -0.068519 -0.265520   \n",
       "4.49    -0.647082 -0.128118 -0.276486  1.000000 -0.480035 -0.160359  0.009397   \n",
       "1.10     0.488475 -0.405671  0.157928 -0.480035  1.000000 -0.009226  0.324484   \n",
       "71.78    0.052634 -0.540010 -0.068519 -0.160359 -0.009226  1.000000 -0.197684   \n",
       "0.06    -0.002306 -0.287900 -0.265520  0.009397  0.324484 -0.197684  1.000000   \n",
       "8.75     0.090257  0.812495 -0.275314 -0.444559 -0.260372 -0.210141 -0.318649   \n",
       "0.00     0.451437  0.001062  0.327233 -0.492149  0.478936 -0.104361 -0.043790   \n",
       "0.00.1  -0.078151  0.145791 -0.240802  0.086906 -0.076456 -0.097674 -0.009586   \n",
       "1.1      0.878113 -0.161322  0.504983 -0.744004  0.597754  0.147767 -0.012765   \n",
       "\n",
       "             8.75      0.00    0.00.1       1.1  \n",
       "1        0.090257  0.451437 -0.078151  0.878113  \n",
       "1.52101  0.812495  0.001062  0.145791 -0.161322  \n",
       "13.64   -0.275314  0.327233 -0.240802  0.504983  \n",
       "4.49    -0.444559 -0.492149  0.086906 -0.744004  \n",
       "1.10    -0.260372  0.478936 -0.076456  0.597754  \n",
       "71.78   -0.210141 -0.104361 -0.097674  0.147767  \n",
       "0.06    -0.318649 -0.043790 -0.009586 -0.012765  \n",
       "8.75     1.000000 -0.113121  0.124674  0.000372  \n",
       "0.00    -0.113121  1.000000 -0.059729  0.574896  \n",
       "0.00.1   0.124674 -0.059729  1.000000 -0.191090  \n",
       "1.1      0.000372  0.574896 -0.191090  1.000000  "
      ]
     },
     "execution_count": 21,
     "metadata": {},
     "output_type": "execute_result"
    }
   ],
   "source": [
    "df.corr()"
   ]
  },
  {
   "cell_type": "code",
   "execution_count": 23,
   "id": "1589e17c",
   "metadata": {},
   "outputs": [
    {
     "data": {
      "text/plain": [
       "4.49      -0.744004\n",
       "0.00.1    -0.191090\n",
       "1.52101   -0.161322\n",
       "0.06      -0.012765\n",
       "8.75       0.000372\n",
       "71.78      0.147767\n",
       "13.64      0.504983\n",
       "0.00       0.574896\n",
       "1.10       0.597754\n",
       "1          0.878113\n",
       "1.1        1.000000\n",
       "Name: 1.1, dtype: float64"
      ]
     },
     "execution_count": 23,
     "metadata": {},
     "output_type": "execute_result"
    }
   ],
   "source": [
    "df.corr()['1.1'].sort_values()"
   ]
  },
  {
   "cell_type": "code",
   "execution_count": 24,
   "id": "445d5353",
   "metadata": {},
   "outputs": [],
   "source": [
    "import seaborn as sns\n",
    "import matplotlib.pyplot as plt"
   ]
  },
  {
   "cell_type": "code",
   "execution_count": 25,
   "id": "70051cfe",
   "metadata": {},
   "outputs": [
    {
     "data": {
      "text/plain": [
       "<AxesSubplot:>"
      ]
     },
     "execution_count": 25,
     "metadata": {},
     "output_type": "execute_result"
    },
    {
     "data": {
      "image/png": "[encoded data removed]",
      "text/plain": [
       "<Figure size 1080x504 with 2 Axes>"
      ]
     },
     "metadata": {
      "needs_background": "light"
     },
     "output_type": "display_data"
    }
   ],
   "source": [
    "plt.figure(figsize=(15,7))\n",
    "sns.heatmap(df.corr(),annot=True)"
   ]
  },
  {
   "cell_type": "code",
   "execution_count": 27,
   "id": "a044a716",
   "metadata": {},
   "outputs": [],
   "source": [
    "df_features=df.drop('1.1',axis=1)"
   ]
  },
  {
   "cell_type": "code",
   "execution_count": 28,
   "id": "354adeb1",
   "metadata": {},
   "outputs": [
    {
     "data": {
      "image/png": "[encoded data removed]",
      "text/plain": [
       "<Figure size 1440x1800 with 10 Axes>"
      ]
     },
     "metadata": {},
     "output_type": "display_data"
    }
   ],
   "source": [
    "plt.figure(figsize=(20,25),facecolor='blue')\n",
    "plotnumber=1\n",
    "\n",
    "for column in df_features:\n",
    "    if plotnumber<=11:\n",
    "        ax=plt.subplot(3,4,plotnumber)\n",
    "        sns.boxplot(data=df_features[column])\n",
    "        plt.xlabel(column,fontsize=20)\n",
    "        \n",
    "    plotnumber+=1\n",
    "    \n",
    "plt.show()"
   ]
  },
  {
   "cell_type": "code",
   "execution_count": 29,
   "id": "0511de6f",
   "metadata": {},
   "outputs": [
    {
     "data": {
      "text/plain": [
       "1          0.000000\n",
       "1.52101    1.639658\n",
       "13.64      0.457318\n",
       "4.49      -1.154323\n",
       "1.10       0.900017\n",
       "71.78     -0.744546\n",
       "0.06       6.549276\n",
       "8.75       2.040591\n",
       "0.00       3.406749\n",
       "0.00.1     1.747173\n",
       "1.1        1.108861\n",
       "dtype: float64"
      ]
     },
     "execution_count": 29,
     "metadata": {},
     "output_type": "execute_result"
    }
   ],
   "source": [
    "df.skew()"
   ]
  },
  {
   "cell_type": "code",
   "execution_count": 30,
   "id": "0ebc29ed",
   "metadata": {},
   "outputs": [
    {
     "data": {
      "text/plain": [
       "1          0.878113\n",
       "1.52101   -0.161322\n",
       "13.64      0.504983\n",
       "4.49      -0.744004\n",
       "1.10       0.597754\n",
       "71.78      0.147767\n",
       "0.06      -0.012765\n",
       "8.75       0.000372\n",
       "0.00       0.574896\n",
       "0.00.1    -0.191090\n",
       "1.1        1.000000\n",
       "Name: 1.1, dtype: float64"
      ]
     },
     "execution_count": 30,
     "metadata": {},
     "output_type": "execute_result"
    }
   ],
   "source": [
    "df.corr()['1.1']"
   ]
  },
  {
   "cell_type": "code",
   "execution_count": 31,
   "id": "0f8e47cc",
   "metadata": {},
   "outputs": [
    {
     "data": {
      "text/plain": [
       "(213, 11)"
      ]
     },
     "execution_count": 31,
     "metadata": {},
     "output_type": "execute_result"
    }
   ],
   "source": [
    "from scipy.stats import zscore\n",
    "z=np.abs(zscore(df))\n",
    "z.shape"
   ]
  },
  {
   "cell_type": "code",
   "execution_count": 32,
   "id": "2953c9fe",
   "metadata": {},
   "outputs": [
    {
     "name": "stdout",
     "output_type": "stream",
     "text": [
      "(array([104, 105, 105, 105, 105, 105, 106, 106, 106, 109, 110, 111, 111,\n",
      "       130, 144, 161, 162, 162, 162, 170, 170, 171, 171, 173, 183, 183,\n",
      "       187, 188, 200, 200, 202, 206, 212], dtype=int64), array([7, 1, 2, 5, 7, 8, 1, 5, 7, 7, 7, 1, 7, 7, 9, 9, 4, 5, 8, 4, 6, 4,\n",
      "       6, 9, 2, 5, 5, 8, 5, 6, 8, 8, 8], dtype=int64))\n"
     ]
    }
   ],
   "source": [
    "threshold=3\n",
    "print (np.where(z>3))"
   ]
  },
  {
   "cell_type": "code",
   "execution_count": 33,
   "id": "cc8aaaf0",
   "metadata": {},
   "outputs": [
    {
     "data": {
      "text/plain": [
       "33"
      ]
     },
     "execution_count": 33,
     "metadata": {},
     "output_type": "execute_result"
    }
   ],
   "source": [
    "import numpy as np\n",
    "len(np.where(z>3)[0])"
   ]
  },
  {
   "cell_type": "code",
   "execution_count": 35,
   "id": "0fdb4fb6",
   "metadata": {},
   "outputs": [
    {
     "data": {
      "text/plain": [
       "1          1.658884\n",
       "1.52101    0.789399\n",
       "13.64      0.755419\n",
       "4.49       0.649895\n",
       "1.10       0.347848\n",
       "71.78      0.407878\n",
       "0.06       0.216258\n",
       "8.75       0.623951\n",
       "0.00       0.353808\n",
       "0.00.1     2.082200\n",
       "1.1        0.851703\n",
       "Name: 4, dtype: float64"
      ]
     },
     "execution_count": 35,
     "metadata": {},
     "output_type": "execute_result"
    }
   ],
   "source": [
    "z.iloc[4]"
   ]
  },
  {
   "cell_type": "code",
   "execution_count": 36,
   "id": "a7a21ded",
   "metadata": {},
   "outputs": [
    {
     "data": {
      "text/plain": [
       "(213, 11)"
      ]
     },
     "execution_count": 36,
     "metadata": {},
     "output_type": "execute_result"
    }
   ],
   "source": [
    "df.shape"
   ]
  },
  {
   "cell_type": "code",
   "execution_count": 37,
   "id": "cd23dc3a",
   "metadata": {},
   "outputs": [],
   "source": [
    "df_new=df[(z<3).all(axis=1)]"
   ]
  },
  {
   "cell_type": "code",
   "execution_count": 38,
   "id": "4651cda0",
   "metadata": {},
   "outputs": [
    {
     "data": {
      "text/plain": [
       "(193, 11)"
      ]
     },
     "execution_count": 38,
     "metadata": {},
     "output_type": "execute_result"
    }
   ],
   "source": [
    "df_new.shape"
   ]
  },
  {
   "cell_type": "code",
   "execution_count": 39,
   "id": "acc0112b",
   "metadata": {},
   "outputs": [],
   "source": [
    "from sklearn.preprocessing import StandardScaler"
   ]
  },
  {
   "cell_type": "code",
   "execution_count": 40,
   "id": "ffadb530",
   "metadata": {},
   "outputs": [],
   "source": [
    "from sklearn.model_selection import train_test_split\n",
    "from sklearn.linear_model import LogisticRegression\n",
    "lr=LogisticRegression()\n",
    "from sklearn.metrics import accuracy_score"
   ]
  },
  {
   "cell_type": "code",
   "execution_count": 42,
   "id": "0ba17ecc",
   "metadata": {},
   "outputs": [],
   "source": [
    "X=df.drop(columns=['1.1'])\n",
    "y=df['1.1']"
   ]
  },
  {
   "cell_type": "code",
   "execution_count": 49,
   "id": "61a0f5fb",
   "metadata": {},
   "outputs": [],
   "source": [
    "X_train,X_test,y_train,y_test=train_test_split(X,y,test_size=0.25,random_state=41)"
   ]
  },
  {
   "cell_type": "code",
   "execution_count": 50,
   "id": "0bd2de4f",
   "metadata": {},
   "outputs": [],
   "source": [
    "def metric_score(clf,X_train,X_test,y_train,y_test,train=True):\n",
    "    if train:\n",
    "        y_pred=clf.predict(X_train)\n",
    "        print(f\"Accuracy score:{accuracy_score(y_train,y_pred)*100:.2f}%\")\n",
    "        \n",
    "    elif train==False:\n",
    "        pred=clf.predict(X_test)\n",
    "        \n",
    "        print(f\"Accuracy score:{accuracy_score(y_test,pred)*100:.2f}%\")\n",
    "            \n",
    "        print(classification_report(y_test,pred,digits=2))"
   ]
  },
  {
   "cell_type": "code",
   "execution_count": 51,
   "id": "cfd2df7e",
   "metadata": {},
   "outputs": [],
   "source": [
    "import pandas as pd\n",
    "from sklearn.tree import DecisionTreeClassifier\n",
    "from sklearn.model_selection import train_test_split,GridSearchCV\n",
    "from sklearn.preprocessing import StandardScaler\n",
    "from sklearn.metrics import accuracy_score, confusion_matrix, roc_curve, roc_auc_score,classification_report\n",
    "import matplotlib.pyplot as plt\n",
    "import seaborn as sns\n",
    "\n",
    "import warnings\n",
    "warnings.filterwarnings('ignore')"
   ]
  },
  {
   "cell_type": "code",
   "execution_count": 53,
   "id": "5da4b82f",
   "metadata": {},
   "outputs": [
    {
     "data": {
      "text/html": [
       "<style>#sk-container-id-3 {color: black;background-color: white;}#sk-container-id-3 pre{padding: 0;}#sk-container-id-3 div.sk-toggleable {background-color: white;}#sk-container-id-3 label.sk-toggleable__label {cursor: pointer;display: block;width: 100%;margin-bottom: 0;padding: 0.3em;box-sizing: border-box;text-align: center;}#sk-container-id-3 label.sk-toggleable__label-arrow:before {content: \"▸\";float: left;margin-right: 0.25em;color: #696969;}#sk-container-id-3 label.sk-toggleable__label-arrow:hover:before {color: black;}#sk-container-id-3 div.sk-estimator:hover label.sk-toggleable__label-arrow:before {color: black;}#sk-container-id-3 div.sk-toggleable__content {max-height: 0;max-width: 0;overflow: hidden;text-align: left;background-color: #f0f8ff;}#sk-container-id-3 div.sk-toggleable__content pre {margin: 0.2em;color: black;border-radius: 0.25em;background-color: #f0f8ff;}#sk-container-id-3 input.sk-toggleable__control:checked~div.sk-toggleable__content {max-height: 200px;max-width: 100%;overflow: auto;}#sk-container-id-3 input.sk-toggleable__control:checked~label.sk-toggleable__label-arrow:before {content: \"▾\";}#sk-container-id-3 div.sk-estimator input.sk-toggleable__control:checked~label.sk-toggleable__label {background-color: #d4ebff;}#sk-container-id-3 div.sk-label input.sk-toggleable__control:checked~label.sk-toggleable__label {background-color: #d4ebff;}#sk-container-id-3 input.sk-hidden--visually {border: 0;clip: rect(1px 1px 1px 1px);clip: rect(1px, 1px, 1px, 1px);height: 1px;margin: -1px;overflow: hidden;padding: 0;position: absolute;width: 1px;}#sk-container-id-3 div.sk-estimator {font-family: monospace;background-color: #f0f8ff;border: 1px dotted black;border-radius: 0.25em;box-sizing: border-box;margin-bottom: 0.5em;}#sk-container-id-3 div.sk-estimator:hover {background-color: #d4ebff;}#sk-container-id-3 div.sk-parallel-item::after {content: \"\";width: 100%;border-bottom: 1px solid gray;flex-grow: 1;}#sk-container-id-3 div.sk-label:hover label.sk-toggleable__label {background-color: #d4ebff;}#sk-container-id-3 div.sk-serial::before {content: \"\";position: absolute;border-left: 1px solid gray;box-sizing: border-box;top: 0;bottom: 0;left: 50%;z-index: 0;}#sk-container-id-3 div.sk-serial {display: flex;flex-direction: column;align-items: center;background-color: white;padding-right: 0.2em;padding-left: 0.2em;position: relative;}#sk-container-id-3 div.sk-item {position: relative;z-index: 1;}#sk-container-id-3 div.sk-parallel {display: flex;align-items: stretch;justify-content: center;background-color: white;position: relative;}#sk-container-id-3 div.sk-item::before, #sk-container-id-3 div.sk-parallel-item::before {content: \"\";position: absolute;border-left: 1px solid gray;box-sizing: border-box;top: 0;bottom: 0;left: 50%;z-index: -1;}#sk-container-id-3 div.sk-parallel-item {display: flex;flex-direction: column;z-index: 1;position: relative;background-color: white;}#sk-container-id-3 div.sk-parallel-item:first-child::after {align-self: flex-end;width: 50%;}#sk-container-id-3 div.sk-parallel-item:last-child::after {align-self: flex-start;width: 50%;}#sk-container-id-3 div.sk-parallel-item:only-child::after {width: 0;}#sk-container-id-3 div.sk-dashed-wrapped {border: 1px dashed gray;margin: 0 0.4em 0.5em 0.4em;box-sizing: border-box;padding-bottom: 0.4em;background-color: white;}#sk-container-id-3 div.sk-label label {font-family: monospace;font-weight: bold;display: inline-block;line-height: 1.2em;}#sk-container-id-3 div.sk-label-container {text-align: center;}#sk-container-id-3 div.sk-container {/* jupyter's `normalize.less` sets `[hidden] { display: none; }` but bootstrap.min.css set `[hidden] { display: none !important; }` so we also need the `!important` here to be able to override the default hidden behavior on the sphinx rendered scikit-learn.org. See: https://github.com/scikit-learn/scikit-learn/issues/21755 */display: inline-block !important;position: relative;}#sk-container-id-3 div.sk-text-repr-fallback {display: none;}</style><div id=\"sk-container-id-3\" class=\"sk-top-container\"><div class=\"sk-text-repr-fallback\"><pre>DecisionTreeClassifier()</pre><b>In a Jupyter environment, please rerun this cell to show the HTML representation or trust the notebook. <br />On GitHub, the HTML representation is unable to render, please try loading this page with nbviewer.org.</b></div><div class=\"sk-container\" hidden><div class=\"sk-item\"><div class=\"sk-estimator sk-toggleable\"><input class=\"sk-toggleable__control sk-hidden--visually\" id=\"sk-estimator-id-3\" type=\"checkbox\" checked><label for=\"sk-estimator-id-3\" class=\"sk-toggleable__label sk-toggleable__label-arrow\">DecisionTreeClassifier</label><div class=\"sk-toggleable__content\"><pre>DecisionTreeClassifier()</pre></div></div></div></div></div>"
      ],
      "text/plain": [
       "DecisionTreeClassifier()"
      ]
     },
     "execution_count": 53,
     "metadata": {},
     "output_type": "execute_result"
    }
   ],
   "source": [
    "clf=DecisionTreeClassifier()\n",
    "clf.fit(x_train,y_train)"
   ]
  },
  {
   "cell_type": "code",
   "execution_count": 54,
   "id": "b0ab6778",
   "metadata": {},
   "outputs": [
    {
     "name": "stdout",
     "output_type": "stream",
     "text": [
      "Accuracy score:100.00%\n",
      "Accuracy score:96.30%\n",
      "              precision    recall  f1-score   support\n",
      "\n",
      "           1       1.00      0.95      0.98        21\n",
      "           2       0.94      0.94      0.94        18\n",
      "           3       0.83      1.00      0.91         5\n",
      "           5       1.00      1.00      1.00         2\n",
      "           6       1.00      1.00      1.00         1\n",
      "           7       1.00      1.00      1.00         7\n",
      "\n",
      "    accuracy                           0.96        54\n",
      "   macro avg       0.96      0.98      0.97        54\n",
      "weighted avg       0.97      0.96      0.96        54\n",
      "\n"
     ]
    }
   ],
   "source": [
    "metric_score(clf,X_train,X_test,y_train,y_test,train=True)\n",
    "metric_score(clf,X_train,X_test,y_train,y_test,train=False)"
   ]
  },
  {
   "cell_type": "code",
   "execution_count": 55,
   "id": "124ec841",
   "metadata": {},
   "outputs": [],
   "source": []
  },
  {
   "cell_type": "code",
   "execution_count": null,
   "id": "9317bc16",
   "metadata": {},
   "outputs": [],
   "source": []
  }
 ],
 "metadata": {
  "kernelspec": {
   "display_name": "Python 3 (ipykernel)",
   "language": "python",
   "name": "python3"
  },
  "language_info": {
   "codemirror_mode": {
    "name": "ipython",
    "version": 3
   },
   "file_extension": ".py",
   "mimetype": "text/x-python",
   "name": "python",
   "nbconvert_exporter": "python",
   "pygments_lexer": "ipython3",
   "version": "3.9.12"
  }
 },
 "nbformat": 4,
 "nbformat_minor": 5
}
