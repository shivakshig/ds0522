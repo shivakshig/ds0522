{
 "cells": [
  {
   "cell_type": "code",
   "execution_count": 103,
   "id": "8abe84b9",
   "metadata": {},
   "outputs": [],
   "source": [
    "import numpy as np\n",
    "import pandas as pd\n",
    "import matplotlib.pyplot as plt\n",
    "%matplotlib inline"
   ]
  },
  {
   "cell_type": "code",
   "execution_count": 104,
   "id": "4b182b60",
   "metadata": {},
   "outputs": [],
   "source": [
    "from sklearn.model_selection import train_test_split,GridSearchCV\n",
    "from sklearn.metrics import r2_score,mean_squared_error\n",
    "\n",
    "import warnings\n",
    "warnings.filterwarnings('ignore')"
   ]
  },
  {
   "cell_type": "code",
   "execution_count": null,
   "id": "3179595b",
   "metadata": {},
   "outputs": [],
   "source": [
    "df=pd.read_csv('https://raw.githubusercontent.com/dsrscientist/dataset4/main/Japan_used_cars_datasets.csv')"
   ]
  },
  {
   "cell_type": "code",
   "execution_count": null,
   "id": "37eea3cb",
   "metadata": {},
   "outputs": [],
   "source": [
    "df.head()"
   ]
  },
  {
   "cell_type": "code",
   "execution_count": null,
   "id": "492337f7",
   "metadata": {},
   "outputs": [],
   "source": [
    "df.describe()"
   ]
  },
  {
   "cell_type": "code",
   "execution_count": null,
   "id": "ddbff243",
   "metadata": {},
   "outputs": [],
   "source": [
    "df.isna().sum()"
   ]
  },
  {
   "cell_type": "code",
   "execution_count": null,
   "id": "76159269",
   "metadata": {},
   "outputs": [],
   "source": [
    "df.drop_duplicates(inplace=True)"
   ]
  },
  {
   "cell_type": "code",
   "execution_count": null,
   "id": "fb1aeae6",
   "metadata": {},
   "outputs": [],
   "source": [
    "df.shape"
   ]
  },
  {
   "cell_type": "code",
   "execution_count": null,
   "id": "802053ab",
   "metadata": {},
   "outputs": [],
   "source": []
  },
  {
   "cell_type": "code",
   "execution_count": null,
   "id": "16dbd85d",
   "metadata": {},
   "outputs": [],
   "source": [
    "import seaborn as sns\n",
    "import matplotlib.pyplot as plt"
   ]
  },
  {
   "cell_type": "code",
   "execution_count": null,
   "id": "2ba07778",
   "metadata": {},
   "outputs": [],
   "source": [
    "plt.figure(figsize=(15,7))\n",
    "sns.heatmap(df.corr(),annot=True)"
   ]
  },
  {
   "cell_type": "code",
   "execution_count": null,
   "id": "58809cec",
   "metadata": {},
   "outputs": [],
   "source": [
    "sns.scatterplot(x='year',y='price',data=df)"
   ]
  },
  {
   "cell_type": "code",
   "execution_count": null,
   "id": "61d0afb0",
   "metadata": {},
   "outputs": [],
   "source": [
    "sns.scatterplot(x='mileage',y='price',data=df)"
   ]
  },
  {
   "cell_type": "code",
   "execution_count": null,
   "id": "dd520a9f",
   "metadata": {},
   "outputs": [],
   "source": [
    "sns.scatterplot(x='engine_capacity',y='price',data=df)"
   ]
  },
  {
   "cell_type": "code",
   "execution_count": null,
   "id": "ad2d1024",
   "metadata": {},
   "outputs": [],
   "source": [
    "sns.scatterplot(x='model',y='price',data=df)"
   ]
  },
  {
   "cell_type": "code",
   "execution_count": null,
   "id": "0494ec38",
   "metadata": {},
   "outputs": [],
   "source": [
    "sns.scatterplot(x='transmission',y='price',data=df)"
   ]
  },
  {
   "cell_type": "code",
   "execution_count": null,
   "id": "74b55694",
   "metadata": {},
   "outputs": [],
   "source": [
    "sns.scatterplot(x='drive',y='price',data=df)"
   ]
  },
  {
   "cell_type": "code",
   "execution_count": null,
   "id": "9dd04abc",
   "metadata": {},
   "outputs": [],
   "source": [
    "sns.scatterplot(x='hand_drive',y='price',data=df)"
   ]
  },
  {
   "cell_type": "code",
   "execution_count": null,
   "id": "d6909d5f",
   "metadata": {},
   "outputs": [],
   "source": [
    "sns.scatterplot(x='fuel',y='price',data=df)"
   ]
  },
  {
   "cell_type": "code",
   "execution_count": null,
   "id": "be27a51b",
   "metadata": {},
   "outputs": [],
   "source": [
    "import warnings\n",
    "warnings.filterwarnings('ignore')"
   ]
  },
  {
   "cell_type": "code",
   "execution_count": null,
   "id": "b41c92ba",
   "metadata": {},
   "outputs": [],
   "source": [
    "df_features=df.drop('price',axis=1)"
   ]
  },
  {
   "cell_type": "code",
   "execution_count": null,
   "id": "de62aced",
   "metadata": {},
   "outputs": [],
   "source": [
    "numerics=['int8','int16','int32','int64','float16','float32','float64']\n",
    "categorical_columns=[]\n",
    "features=df.columns.values.tolist()\n",
    "\n",
    "for col in features:\n",
    "    if df[col].dtype in numerics:\n",
    "        continue\n",
    "    categorical_columns.append(col)"
   ]
  },
  {
   "cell_type": "code",
   "execution_count": null,
   "id": "a99efcb5",
   "metadata": {},
   "outputs": [],
   "source": [
    "categorical_columns"
   ]
  },
  {
   "cell_type": "code",
   "execution_count": null,
   "id": "5a1b179b",
   "metadata": {},
   "outputs": [],
   "source": [
    "df_dummies=pd.get_dummies(df[categorical_columns],drop_first=True)"
   ]
  },
  {
   "cell_type": "code",
   "execution_count": null,
   "id": "6f94dd38",
   "metadata": {},
   "outputs": [],
   "source": [
    "df_dummies.head()"
   ]
  },
  {
   "cell_type": "code",
   "execution_count": null,
   "id": "9285b9ff",
   "metadata": {},
   "outputs": [],
   "source": [
    "df_dummies.head()"
   ]
  },
  {
   "cell_type": "code",
   "execution_count": null,
   "id": "e148e2b3",
   "metadata": {},
   "outputs": [],
   "source": [
    "df=df.join(df_dummies)"
   ]
  },
  {
   "cell_type": "code",
   "execution_count": null,
   "id": "be8decf9",
   "metadata": {},
   "outputs": [],
   "source": [
    "from sklearn.linear_model import LinearRegression\n",
    "from sklearn.ensemble import RandomForestRegressor\n",
    "from sklearn.tree import DecisionTreeRegressor\n",
    "from sklearn.svm import SVR\n",
    "\n",
    "from sklearn.metrics import r2_score, mean_squared_error, accuracy_score, confusion_matrix\n",
    "from sklearn.model_selection import cross_val_score, RandomizedSearchCV, GridSearchCV"
   ]
  },
  {
   "cell_type": "code",
   "execution_count": null,
   "id": "e2203e64",
   "metadata": {},
   "outputs": [],
   "source": [
    "X=df_dummies.drop(columns=['price'])\n",
    "y=df_dummies['price']\n",
    "\n",
    "from sklearn.model_selection import train_test_split\n",
    "X_train, X_test, y_train, y_test = train_test_split(X,y,test_size=0.2, random_state=42)\n",
    "\n",
    "print('Size of X_train : ', X_train.shape)\n",
    "print('Size of y_train : ', y_train.shape)\n",
    "print('Size of X_test : ', X_test.shape)\n",
    "print('Size of Y_test : ', y_test.shape)"
   ]
  },
  {
   "cell_type": "code",
   "execution_count": null,
   "id": "0ccd6c5d",
   "metadata": {},
   "outputs": [],
   "source": [
    "from sklearn.linear_model import LinearRegression\n",
    "from sklearn.ensemble import RandomForestRegressor\n",
    "from sklearn.tree import DecisionTreeRegressor\n",
    "from sklearn.svm import SVR\n",
    "\n",
    "from sklearn.metrics import r2_score, mean_squared_error, accuracy_score, confusion_matrix\n",
    "from sklearn.model_selection import cross_val_score, RandomizedSearchCV, GridSearchCV"
   ]
  },
  {
   "cell_type": "code",
   "execution_count": null,
   "id": "76164e97",
   "metadata": {},
   "outputs": [],
   "source": [
    "linear_reg = LinearRegression()\n",
    "linear_reg.fit(X_train, y_train)"
   ]
  },
  {
   "cell_type": "code",
   "execution_count": null,
   "id": "237b2a2a",
   "metadata": {},
   "outputs": [],
   "source": [
    "cv_linear_reg = cross_val_score(estimator = linear_reg, X = X, y = y, cv = 10)\n",
    "\n",
    "y_pred_linear_reg_train = linear_reg.predict(X_train)\n",
    "r2_score_linear_reg_train = r2_score(y_train, y_pred_linear_reg_train)\n",
    "\n",
    "y_pred_linear_reg_test = linear_reg.predict(X_test)\n",
    "r2_score_linear_reg_test = r2_score(y_test, y_pred_linear_reg_test)\n",
    "\n",
    "rmse_linear = (np.sqrt(mean_squared_error(y_test, y_pred_linear_reg_test)))\n",
    "\n",
    "print('CV Linear Regression : {0:.2f}'.format(cv_linear_reg.mean()))\n",
    "print('R2_score (train) : {0:.2f}'.format(r2_score_linear_reg_train))\n",
    "print('R2_score (test) : {0:.2f}'.format(r2_score_linear_reg_test))\n",
    "print('RMSE : {0:.2f}'.format(rmse_linear))"
   ]
  },
  {
   "cell_type": "code",
   "execution_count": null,
   "id": "5b270985",
   "metadata": {},
   "outputs": [],
   "source": []
  },
  {
   "cell_type": "code",
   "execution_count": null,
   "id": "0054813c",
   "metadata": {},
   "outputs": [],
   "source": []
  },
  {
   "cell_type": "code",
   "execution_count": null,
   "id": "2f9e747a",
   "metadata": {},
   "outputs": [],
   "source": []
  }
 ],
 "metadata": {
  "kernelspec": {
   "display_name": "Python 3 (ipykernel)",
   "language": "python",
   "name": "python3"
  },
  "language_info": {
   "codemirror_mode": {
    "name": "ipython",
    "version": 3
   },
   "file_extension": ".py",
   "mimetype": "text/x-python",
   "name": "python",
   "nbconvert_exporter": "python",
   "pygments_lexer": "ipython3",
   "version": "3.9.12"
  }
 },
 "nbformat": 4,
 "nbformat_minor": 5
}
